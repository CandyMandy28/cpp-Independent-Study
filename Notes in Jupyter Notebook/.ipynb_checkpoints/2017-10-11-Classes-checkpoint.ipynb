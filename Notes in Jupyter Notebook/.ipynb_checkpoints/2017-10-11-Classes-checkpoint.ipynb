{
 "cells": [
  {
   "cell_type": "markdown",
   "metadata": {},
   "source": [
    "# 2017-10-11"
   ]
  },
  {
   "cell_type": "markdown",
   "metadata": {},
   "source": [
    "Always be worried about stupid users."
   ]
  },
  {
   "cell_type": "markdown",
   "metadata": {},
   "source": [
    "# Encapsulation\n",
    "\n",
    "Separate the implementation from the user interface so that users can't fuck with your stuff.\n",
    "\n",
    "\"Never rely on the intelligence of your user.\"\n"
   ]
  },
  {
   "cell_type": "markdown",
   "metadata": {},
   "source": [
    "## Classes\n",
    "\n",
    "Your source code:\n",
    "```c++\n",
    "class Ship\n",
    "{\n",
    "    public:\n",
    "        void advance(double time);\n",
    "        \n",
    "        \n",
    "    private:\n",
    "        // ALL DATA ARE PRIVATE\n",
    "        double position;\n",
    "        double velocity;\n",
    "};\n",
    "\n",
    "void Ship::advance(double time)\n",
    "{\n",
    "    position += velocity * time;\n",
    "}\n",
    "```\n",
    "-----\n",
    "Main function probably:\n",
    "```c++\n",
    "Ship danger;\n",
    "danger.advance(3);\n",
    "```"
   ]
  },
  {
   "cell_type": "markdown",
   "metadata": {},
   "source": [
    "### Constructor\n",
    "It's an initializer\n",
    "\n",
    "```c++\n",
    "Ship(); // Default constructor\n",
    "Ship(double pos, double vel);\n",
    "\n",
    "// Code blah blah blah...\n",
    "\n",
    "Ship::Ship()\n",
    "{\n",
    "    position = 0;\n",
    "    velocity = 0;\n",
    "}\n",
    "\n",
    "Ship::Ship(double pos, double vel)\n",
    "{\n",
    "    position = pos;\n",
    "    velocity = vel;\n",
    "}\n",
    "```\n",
    "You can overload it!!\n"
   ]
  },
  {
   "cell_type": "markdown",
   "metadata": {},
   "source": [
    "### Inheritance\n",
    "\n",
    "```c++\n",
    "Class Torpedo\n",
    "{\n",
    "    public:\n",
    "        Torpedo(double pos, double vol, double timer);\n",
    "    private:\n",
    "        Ship ship;\n",
    "        double timer;\n",
    "}\n",
    "\n",
    "Torpedo::Torpedo(double pos, double vol, double timer):\n",
    "    Ship(pos,vel),\n",
    "    timer(time)\n",
    "```\n",
    "\n",
    "* \"`this`\" doesn't work in constructors"
   ]
  },
  {
   "cell_type": "markdown",
   "metadata": {},
   "source": [
    "# Destructor\n",
    "\n",
    "```c++\n",
    "~Ship();\n",
    "\n",
    "Ship::~Ship()\n",
    "{\n",
    "    \n",
    "}\n",
    "```\n",
    "\n",
    "Call the destructor at the end."
   ]
  },
  {
   "cell_type": "markdown",
   "metadata": {},
   "source": [
    "# Short stuff (Cherie)\n",
    "\n",
    "```c++\n",
    "class Ship\n",
    "{\n",
    "    public:\n",
    "        void advance(double time);\n",
    "        double getPostition(){ return position; }\n",
    "        void setPosition(double pos){ position = pos;}\n",
    "\n",
    "    private:\n",
    "        // ALL DATA ARE PRIVATE\n",
    "        double position;\n",
    "        double velocity;\n",
    "};\n",
    "```\n",
    "This is faster!!! :DDDD\n",
    "Just do it for one-line trivial functions ;)"
   ]
  }
 ],
 "metadata": {
  "kernelspec": {
   "display_name": "Python 3",
   "language": "python",
   "name": "python3"
  },
  "language_info": {
   "codemirror_mode": {
    "name": "ipython",
    "version": 3
   },
   "file_extension": ".py",
   "mimetype": "text/x-python",
   "name": "python",
   "nbconvert_exporter": "python",
   "pygments_lexer": "ipython3",
   "version": "3.6.1"
  }
 },
 "nbformat": 4,
 "nbformat_minor": 2
}
