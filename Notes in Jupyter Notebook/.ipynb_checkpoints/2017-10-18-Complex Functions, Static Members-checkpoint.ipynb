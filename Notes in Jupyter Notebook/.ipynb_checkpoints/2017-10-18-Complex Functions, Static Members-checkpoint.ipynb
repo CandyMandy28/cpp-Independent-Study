{
 "cells": [
  {
   "cell_type": "markdown",
   "metadata": {},
   "source": [
    "# 2017-10-18"
   ]
  },
  {
   "cell_type": "markdown",
   "metadata": {},
   "source": [
    "## Overview Homework\n",
    "Put the explanations in the header part thing.\n",
    "\n",
    "You should call code from other functions instead of copy pasting.\n",
    "\n",
    "**ALWAYS DO THIS IF YOU CAN.**\n",
    "\n",
    "\n",
    "`int getElement(int index) const;`\n",
    "Const is put after the thing.\n",
    "This will not change the class data.\n",
    "\n",
    "Once you start using it, you have to use it **everywhere**.\n",
    "\n",
    "You can `SmartArray arrayThing;` rather than `SmartArray potato(5);`\n",
    "\n",
    "You use pass by reference for speed. You call over the reference rather than all that data.\n",
    "\n",
    "```c++\n",
    "SmartArray::SmartArray(const SmartArray& other):\n",
    "    SmartArray(other.size)\n",
    "{\n",
    "    for ()\n",
    "    {\n",
    "        array[] = other[]\n",
    "}}\n",
    "```\n",
    "\n",
    "You can call and copy and stuff."
   ]
  },
  {
   "cell_type": "markdown",
   "metadata": {},
   "source": [
    "# Things you have to write for every class:\n",
    "\n",
    "Put your code in this order:\n",
    "* Constructor\n",
    "* Copy Constructor\n",
    "    * `SmartArray(const SmartArray& )`\n",
    "    * YOU HAVE TO DO THE PASS BY REFERENCE\n",
    "* Assignment Operator\n",
    "* Move Constructor\n",
    "* Move assignment Operator\n",
    "* Destructor\n",
    "\n",
    "```c++\n",
    "SmartArray corn;\n",
    "\n",
    "int SumArray(SmartArray array);\n",
    "\n",
    "int sum = sumArray(corn); // copy constructor\n",
    "\n",
    "SmartArray rhinoceros(corn);\n",
    "\n",
    "SmartArray shoe = board(5); // copy\n",
    "```\n",
    "\n",
    "---------------\n",
    "\n",
    "```c++\n",
    "SmartArray& operator=(const SmartArray& rhs) // rhs = right hand side\n",
    "{\n",
    "    size = rhs.size;\n",
    "//     release old array\n",
    "//     make new array\n",
    "//     copy elements\n",
    "}\n",
    "```\n"
   ]
  },
  {
   "cell_type": "markdown",
   "metadata": {},
   "source": [
    "```c++\n",
    "SmartArray board(int cow)\n",
    "{\n",
    "    return SmatArray(cow);\n",
    "}\n",
    "```"
   ]
  },
  {
   "cell_type": "markdown",
   "metadata": {},
   "source": [
    "## Move Constructor\n",
    "```c++\n",
    "SmartArray(SmartArray&& Original)\n",
    "{\n",
    "    //copy pointer // elements = original.elements\n",
    "}\n",
    "```"
   ]
  },
  {
   "cell_type": "markdown",
   "metadata": {},
   "source": [
    "# Move assignment operator\n",
    "```c++\n",
    "SmartArray& operator(SmartArray&& rhs)\n",
    "```\n",
    "\n",
    "&& means like it's a temporary thing that will be deleted soon."
   ]
  },
  {
   "cell_type": "markdown",
   "metadata": {},
   "source": [
    "# \"this\" keyword\n",
    "\n",
    "`this` is a pointer to your current instance.\n",
    "\n",
    "```c++\n",
    "class SmartArray\n",
    "{\n",
    "    // ...\n",
    "    double getAverage()\n",
    "    {\n",
    "        int total = sumArray(*this); // dereferenced version of this.\n",
    "        \n",
    "        // ...\n",
    "    }\n",
    "    // ...\n",
    "}\n",
    "```"
   ]
  },
  {
   "cell_type": "markdown",
   "metadata": {},
   "source": [
    "# Static Members\n",
    "\n",
    "```c++\n",
    "class SmartArray\n",
    "{\n",
    "    // ...\n",
    "    double getAverage()\n",
    "    {\n",
    "        int total = sumArray(*this); // dereferenced version of this.\n",
    "        \n",
    "        // ...\n",
    "    }\n",
    "    // ...\n",
    "    private:\n",
    "        static int nArrays = 0; // initialized once and will last until the end of it's life\n",
    "\n",
    "    ~SmartArray()\n",
    "    {\n",
    "        nArrays--;\n",
    "    }\n",
    "    \n",
    "    static int getNArrays()\n",
    "    {\n",
    "        \n",
    "    }\n",
    "\n",
    "}\n",
    "\n",
    "\n",
    "SmartArray toes; //nArrays =1\n",
    "SmartArray feet; //nArrays =2\n",
    "\n",
    "// to call getNArrays()\n",
    "SmartArray::getNArrays();\n",
    "```"
   ]
  },
  {
   "cell_type": "markdown",
   "metadata": {},
   "source": [
    "## \"`mutable`\" Keyword\n",
    "You can change a mutable variable even if the object itself is const.\n",
    "\n",
    "```c++\n",
    "//inside the smartarray\n",
    "mutable int capacity;\n",
    "```\n",
    "\n",
    "ONLY if the user has no access to"
   ]
  }
 ],
 "metadata": {
  "kernelspec": {
   "display_name": "Python 3",
   "language": "python",
   "name": "python3"
  },
  "language_info": {
   "codemirror_mode": {
    "name": "ipython",
    "version": 3
   },
   "file_extension": ".py",
   "mimetype": "text/x-python",
   "name": "python",
   "nbconvert_exporter": "python",
   "pygments_lexer": "ipython3",
   "version": "3.6.1"
  }
 },
 "nbformat": 4,
 "nbformat_minor": 2
}
