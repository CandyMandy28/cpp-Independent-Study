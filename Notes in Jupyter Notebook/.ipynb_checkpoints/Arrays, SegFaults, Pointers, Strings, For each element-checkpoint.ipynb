{
 "cells": [
  {
   "cell_type": "markdown",
   "metadata": {},
   "source": [
    "# 2017-09-27"
   ]
  },
  {
   "cell_type": "markdown",
   "metadata": {},
   "source": [
    "# Array\n",
    "The size of the array is **not** saved. You have to set your own variable if you want to call it later on. Therefore, do set a length value.\n",
    "\n",
    "**DON'T DO THIS**\n",
    "```C++\n",
    "int students[25]; // an array of 25 integers\n",
    "//0 is the default value for all types\n",
    "// HOWEVER this is a bad way to do it.\n",
    "```\n",
    "**DO THIS**\n",
    "```C++\n",
    "// DO IT THIS WAY\n",
    "const nStud = 25;\n",
    "int students[nStud];\n",
    "```\n",
    "\n"
   ]
  },
  {
   "cell_type": "markdown",
   "metadata": {},
   "source": [
    "## Features\n",
    "\n",
    "```C++\n",
    "//\n",
    "students[0] = 5;\n",
    "++students[3];\n",
    "\n",
    "int students[25] = {1,5,8,7}; // the rest of the values are set to 0\n",
    "int students[25] = {};  // all are 0\n",
    "\n",
    "students[0];\n",
    "students[1] = students[0] + sizeof(int); \n",
    "// offset from students[0]\n",
    "// this offsets everything\n",
    "// it's much faster than just setting 25 for 1-25\n",
    "// saves a lot of memory.\n",
    "```\n"
   ]
  },
  {
   "cell_type": "markdown",
   "metadata": {},
   "source": [
    "## Segmentation Faults (SegFault)\n",
    "It's when you read the information of an array but calling an index that doesn't work.\n",
    "\n",
    "When you call from `students[25]` in an array with size 25, you'll go out of bounds, and you'll call garbage information.\n",
    "\n",
    "----"
   ]
  },
  {
   "cell_type": "markdown",
   "metadata": {},
   "source": [
    "# Pointer\n",
    "`f(Object* o)`\n",
    "The `*` is a pointer to the object. It only calls the memory address. It's called a pointer.\n",
    "\n",
    "```C++\n",
    "int* a;\n",
    "\n",
    "cout <<a;\n",
    "\n",
    "// prints:\n",
    "// Ox5ff4fdfe  (Ox means hexadecimal)\n",
    "\n",
    "a = 5; //NOOOOOOOOOOOOOOOOOOOOOOOOOOOOOOOOOOO!!!!!!\n",
    "\n",
    "int b = 5;\n",
    "a = b; //same\n",
    "a = &b; // &b = memory address of b\n",
    "// a stores the location of b\n",
    "\n",
    "cout << *a; // the opposite of &\n",
    "// prints 5\n",
    "```"
   ]
  },
  {
   "cell_type": "markdown",
   "metadata": {},
   "source": [
    "## Null pointer\n",
    "`nullptr` is a null pointer.\n",
    "```c++\n",
    "int* a = nullptr;\n",
    "*a; //fail\n",
    "\n",
    "if(!a) // same as a==nullptr\n",
    "{\n",
    "    // ...\n",
    "}\n",
    "```"
   ]
  },
  {
   "cell_type": "markdown",
   "metadata": {},
   "source": [
    "# Pointer Arithmetics\n",
    "\n",
    "```C++\n",
    "int* a;\n",
    "int b[];\n",
    "a=b;\n",
    "b[0]; // *a\n",
    "b[1]; // *(a+1)\n",
    "\n",
    "```"
   ]
  },
  {
   "cell_type": "markdown",
   "metadata": {},
   "source": [
    "# Loops and Arrays\n",
    "\n",
    "For each element is a thing.\n",
    "\n",
    "You can also do pass by reference that will let you change your element.\n",
    "```c++\n",
    "int a[5];\n",
    "int sum;\n",
    "\n",
    "// only access the element.\n",
    "for(int i : a)\n",
    "{\n",
    "    sum += i\n",
    "}\n",
    "\n",
    "\n",
    "// lets you change i.\n",
    "for (int& i : a)\n",
    "{\n",
    "    i++;\n",
    "}\n",
    "```"
   ]
  },
  {
   "cell_type": "markdown",
   "metadata": {},
   "source": [
    "\n",
    "These are the same thing\n",
    "\n",
    "```C++\n",
    "for(int i = 0; i < size; ++i)\n",
    "{ \n",
    "    // .... \n",
    "}\n",
    "for( int* ptr = init; ptr != end; ++ptr)\n",
    "{\n",
    "    // ...\n",
    "}\n",
    "```"
   ]
  },
  {
   "cell_type": "markdown",
   "metadata": {},
   "source": [
    "### What if?\n",
    "```c++\n",
    "struct BigThing\n",
    "{\n",
    "    double data[10000];\n",
    "    int whatever;\n",
    "}\n",
    "\n",
    "BigThing bt;\n",
    "BigThing* btp = &vt;\n",
    "btp.size; //NO\n",
    "\n",
    "//intead...\n",
    "\n",
    "(*btp).size; //okayy\n",
    "\n",
    "//or\n",
    "\n",
    "btp -> size;\n",
    "```\n",
    "----\n",
    "```c++\n",
    "void f(int* a)\n",
    "{\n",
    "    (*a)++;\n",
    "    // you will make changes to the actual integer.\n",
    "    // not safe\n",
    "}\n",
    "```"
   ]
  },
  {
   "cell_type": "markdown",
   "metadata": {},
   "source": [
    "# Arrays and pointers are the SAME\n",
    "\n",
    "\n",
    "Therefore, you can do this:\n",
    "```C++\n",
    "int a[5];\n",
    "int* b = a;\n",
    "```\n",
    "\n",
    "`void func(int a[5]);`\n",
    "is the same as\n",
    "`void func(int a[]);`\n",
    "is almost the same as\n",
    "`void func(int* a);`\n",
    "\n",
    "You can do this: \n",
    "`void func(const int a[]);`\n",
    "\n",
    "```c++\n",
    "void func(const int* a)\n",
    "{\n",
    "    a = &b; //okay\n",
    "    ++(*a); //NO\n",
    "}\n",
    "\n",
    "void func(int* a const)\n",
    "{\n",
    "    a = &b; //NO\n",
    "    ++(*a); //OK\n",
    "}\n",
    "\n",
    "void func(const int* a const)\n",
    "{\n",
    "    // everything is not okay\n",
    "}\n",
    "```\n",
    "\n",
    "`const int` is **NOT** the same type as `int`."
   ]
  },
  {
   "cell_type": "markdown",
   "metadata": {},
   "source": [
    "# Array has no size stored\n",
    "```c++\n",
    "int sum( const int array[], int size);\n",
    "```\n",
    "\n"
   ]
  },
  {
   "cell_type": "markdown",
   "metadata": {},
   "source": [
    "# The problem with memory addresses in Arrays\n",
    "It's the same thing as \n",
    "```c++\n",
    "struct Ships\n",
    "{\n",
    "    Ship ships[2];\n",
    "    double time;\n",
    "}\n",
    "\n",
    "Ships a;\n",
    "Ships b = a; // you copy\n",
    "++b.time; \n",
    "++b.ships[0];\n",
    "// you change Ship 'a' too.\n",
    "```\n",
    "\n",
    "If you want to deep copy (actually copy the elements and not the memory addresses), CODE IT YOURSELF.\n",
    "\n",
    "\n",
    "## Fix this problem"
   ]
  },
  {
   "cell_type": "markdown",
   "metadata": {},
   "source": [
    "# Strings\n",
    "\n",
    "\"Hi, Dr. Dong\\O\"\n",
    "\\O is a null character.\n",
    "\n",
    "```c++\n",
    "char* name = \"Katya\";\n",
    "// an array of 6 characters. K, A, T, Y, A, \\O\n",
    "\n",
    "name[4] = 'o';\n",
    "cout << name;\n",
    "// Katyo\n",
    "\n",
    "char* name2 = \"Katyo\";\n",
    "\n",
    "\n",
    "if(name==name2) // FALSE\n",
    "\n",
    "```"
   ]
  }
 ],
 "metadata": {
  "kernelspec": {
   "display_name": "Python 3",
   "language": "python",
   "name": "python3"
  },
  "language_info": {
   "codemirror_mode": {
    "name": "ipython",
    "version": 3
   },
   "file_extension": ".py",
   "mimetype": "text/x-python",
   "name": "python",
   "nbconvert_exporter": "python",
   "pygments_lexer": "ipython3",
   "version": "3.6.2"
  }
 },
 "nbformat": 4,
 "nbformat_minor": 2
}
