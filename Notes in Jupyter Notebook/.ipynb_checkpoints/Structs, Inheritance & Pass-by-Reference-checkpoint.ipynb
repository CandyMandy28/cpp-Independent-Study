{
 "cells": [
  {
   "cell_type": "markdown",
   "metadata": {},
   "source": [
    "# Notes for C++"
   ]
  },
  {
   "cell_type": "markdown",
   "metadata": {},
   "source": [
    "## 2017-09-27\n",
    "\n",
    "### Array\n",
    "The size of the array is **not** saved. You have to set your own variable if you want to call it later on. Therefore, do set a length value.\n",
    "\n",
    "**DON'T DO THIS**\n",
    "```C++\n",
    "int students[25]; // an array of 25 integers\n",
    "//0 is the default value for all types\n",
    "// HOWEVER this is a bad way to do it.\n",
    "```\n",
    "**DO THIS**\n",
    "```C++\n",
    "// DO IT THIS WAY\n",
    "const nStud = 25;\n",
    "int students[nStud];\n",
    "```\n",
    "\n",
    "You can do these with the arrays\n",
    "```C++\n",
    "//\n",
    "students[0] = 5;\n",
    "++students[3];\n",
    "\n",
    "int students[25] = {1,5,8,7}; // the rest of the values are set to 0\n",
    "int students[25] = {};  // all are 0\n",
    "\n",
    "students[0];\n",
    "students[1] = students[0] + sizeof(int); \n",
    "// offset from students[0]\n",
    "// this offsets everything\n",
    "// it's much faster than just setting 25 for 1-25\n",
    "// saves a lot of memory.\n",
    "```\n",
    "#### Segmentation Faults (SegFault)\n",
    "It's when you read the information of an array but calling an index that doesn't work.\n",
    "\n",
    "When you call from `students[25]` in an array with size 25, you'll go out of bounds, and you'll call garbage information."
   ]
  },
  {
   "cell_type": "markdown",
   "metadata": {},
   "source": [
    "## 2017-09-20\n",
    "### [cppreference](cppreference.com)\n",
    "\n"
   ]
  },
  {
   "cell_type": "markdown",
   "metadata": {},
   "source": [
    "### Pass-by-reference\n",
    "```c++\n",
    "int advance(int a, double b)\n",
    "{ // pass by value\n",
    "    a += 2; // no effect\n",
    "}\n",
    "\n",
    "int advance(int& a, double b)\n",
    "{ // pass by reference\n",
    "    a+= 2; // it will look back to the previous value of a and changes the value for it.\n",
    "}\n",
    "```\n",
    "\n",
    "Note:\n",
    "```c++\n",
    "struct SIR\n",
    "{\n",
    "    // stuff\n",
    "};\n",
    "\n",
    "double evaluate(SIR& sir);\n",
    "// this can be changed to\n",
    "double evaluate(const SIR& sir);\n",
    "```\n"
   ]
  },
  {
   "cell_type": "markdown",
   "metadata": {},
   "source": [
    "### User-defined Type\n",
    "\n",
    "basically similar to `int`\n",
    "it's usually better than class.\n",
    "\n",
    "```c++\n",
    "struct Apple\n",
    "{\n",
    "    double mass;\n",
    "    double diameter;\n",
    "}; \n",
    "```\n",
    "\n",
    "Now, you can use Apple like any other types.\n",
    "```c++\n",
    "int a;\n",
    "\n",
    "Apple b;\n",
    "b.mass = 5;\n",
    "b.diameter = 18;\n",
    "std::cout << b.mass; \\\\ prints out \"5\"\n",
    "\n",
    "\\\\ This can also be initialized as\n",
    "Apple b {5,18};\n",
    "```\n",
    "\n"
   ]
  },
  {
   "cell_type": "markdown",
   "metadata": {},
   "source": [
    "### Implementation of User-defined types and pass-by-reference\n",
    "```c++\n",
    "void advance(Object& object, double time)\n",
    "{\n",
    "    object.position += object.velocity * time;\n",
    "}\n",
    "```\n",
    "\n"
   ]
  },
  {
   "cell_type": "markdown",
   "metadata": {},
   "source": [
    "### Inheritance\n",
    "```c++\n",
    "struct Torpedo{\n",
    "    Object obj;\n",
    "    double timer;\n",
    "};\n",
    "\n",
    "Torpedo torp;\n",
    "torp.obj.position = 5;\n",
    "```"
   ]
  },
  {
   "cell_type": "code",
   "execution_count": null,
   "metadata": {
    "collapsed": true
   },
   "outputs": [],
   "source": []
  }
 ],
 "metadata": {
  "kernelspec": {
   "display_name": "Python 3",
   "language": "python",
   "name": "python3"
  },
  "language_info": {
   "codemirror_mode": {
    "name": "ipython",
    "version": 3
   },
   "file_extension": ".py",
   "mimetype": "text/x-python",
   "name": "python",
   "nbconvert_exporter": "python",
   "pygments_lexer": "ipython3",
   "version": "3.6.2"
  }
 },
 "nbformat": 4,
 "nbformat_minor": 2
}
