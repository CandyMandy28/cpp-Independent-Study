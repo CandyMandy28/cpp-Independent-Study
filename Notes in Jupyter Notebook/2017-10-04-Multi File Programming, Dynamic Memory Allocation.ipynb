{
 "cells": [
  {
   "cell_type": "markdown",
   "metadata": {},
   "source": [
    "# 2017-10-24"
   ]
  },
  {
   "cell_type": "markdown",
   "metadata": {},
   "source": [
    "## Extra Notes\n",
    "* `unsigned` automatically does unsigned int\n",
    "* A preprocessor macro is anything in ALL CAPS.\n",
    "* emacs: Ctrl + x, 5, 2 (opens new window)"
   ]
  },
  {
   "cell_type": "markdown",
   "metadata": {},
   "source": [
    "# Dynamic Memory Allocation\n",
    "\n",
    "```c++\n",
    "int list[4] = {1,2,3,4};\n",
    "```\n",
    "\n",
    "To add an element to the array:\n",
    "1. make a new array with a list number 5\n",
    "2. add the new part to it\n"
   ]
  },
  {
   "cell_type": "markdown",
   "metadata": {},
   "source": [
    "## Heap\n",
    "an open chunk of memory\n",
    "\n",
    "Calling the pointer of the array that you need to make the new array:\n",
    "this process is known as **Dynamic Memory Allocation**.\n",
    "\n",
    "```c++\n",
    "int list[] = new int[size];\n",
    "// this allocates the array in the heap.\n",
    "// it gives back a pointer to the left side of the equal sign\n",
    "// SIZE CAN'T BE CHANGED, but you can just make a new array.\n",
    "```\n",
    "\n",
    "However, if you keep on doing this, you'll run out of space.\n",
    "You'll experience a memory leak.\n"
   ]
  },
  {
   "cell_type": "markdown",
   "metadata": {},
   "source": [
    "<br>\n",
    "\n",
    "Therefore, you need to delete the temporary data.\n",
    "\n",
    "```c++\n",
    "int oldList[];\n",
    "int size;\n",
    "int newArray[] = new int[size+1];\n",
    "for(int i = 0; i < size; ++i)\n",
    "{\n",
    "    newArray[i] = oldList[i];\n",
    "}\n",
    "newArray[size] = 6;\n",
    "delete[] oldList;\n",
    "\n",
    "oldList[0] = 5; // It might work, but VERY VERY BAD\n",
    "                // known as segfault or Late Access\n",
    "delete[] oldList;   // segfault\n",
    "                    // double deletion\n",
    "```\n",
    "\n",
    "You MUST delete the variable within the scope because you will lose the pointer to the data, and you CAN'T RETRIEVE IT.\n",
    "\n",
    "```c++\n",
    "delete nullptr; // always okay\n",
    "```\n",
    "\n",
    "Java, C#, and many of the modern stuff has a garbage collector periodically, but speed is affected."
   ]
  },
  {
   "cell_type": "markdown",
   "metadata": {},
   "source": [
    "\n",
    "--------\n",
    "<br>\n"
   ]
  },
  {
   "cell_type": "markdown",
   "metadata": {},
   "source": [
    "# Multi File Programming\n",
    "\n",
    "In file: SmartArray.cc\n",
    "Known as Source File\n",
    "```c++\n",
    "struct SmartArray\n",
    "{\n",
    "//     ...\n",
    "};\n",
    "\n",
    "void addToArray(SmartArray& array, int newGuy)\n",
    "{\n",
    "//     ...\n",
    "}\n",
    "```\n"
   ]
  },
  {
   "cell_type": "markdown",
   "metadata": {},
   "source": [
    "--------\n",
    "\n",
    "In another file: Main.cc\n",
    "```c++\n",
    "#include \"SmartArray.hh\n",
    "\n",
    "// As opposed to\n",
    "// #include \"SmartArray.cc\" //straight up copies and pastes it in.\n",
    "// #include \"StudentGraces.cc\" //TOO MUCH CODE!!!\n",
    "// NEVER INCLUDE SOURCE FILES\n",
    "\n",
    "int main()\n",
    "{\n",
    "    SmartArray array;\n",
    "    addToArray(array,5);\n",
    "}\n",
    "```\n",
    "\n"
   ]
  },
  {
   "cell_type": "markdown",
   "metadata": {},
   "source": [
    "----\n",
    "\n",
    "In another file: SmartArray.hh\n",
    "it is a header file.\n",
    "They only tell the code that these functions and stuff exist.\n",
    "```C++\n",
    "// ALWAYS INCLUDE IN YOUR HH FILES\n",
    "// these are known as \"include guards\"\n",
    "#ifndef SMARTARRAY_HH\n",
    "#define SMARTARRAY_HH\n",
    "\n",
    "Struct SmartArray\n",
    "{\n",
    "//     ...\n",
    "};\n",
    "\n",
    "void addToArray(...);\n",
    "void deleteArray(...);\n",
    "// ...\n",
    "\n",
    "// ALWAYS INCLUDE IN YOUR HH FILES\n",
    "#endif\n",
    "```"
   ]
  },
  {
   "cell_type": "markdown",
   "metadata": {},
   "source": [
    "## Compilation\n",
    "SmartArray.cc --> SmartArray.o (Machine code & list of functions)\n",
    "Main.cc --> Main.o\n",
    "\n",
    "Use a Linker that links the two files and makes an .exe file\n",
    "\n",
    "`Carrot.exe`\n",
    "\n",
    "Command used:\n",
    "\n",
    "`g++ SmartArray.cc Main.cc -o Carrot`\n"
   ]
  },
  {
   "cell_type": "markdown",
   "metadata": {},
   "source": []
  }
 ],
 "metadata": {
  "kernelspec": {
   "display_name": "Python 3",
   "language": "python",
   "name": "python3"
  },
  "language_info": {
   "codemirror_mode": {
    "name": "ipython",
    "version": 3
   },
   "file_extension": ".py",
   "mimetype": "text/x-python",
   "name": "python",
   "nbconvert_exporter": "python",
   "pygments_lexer": "ipython3",
   "version": "3.6.1"
  }
 },
 "nbformat": 4,
 "nbformat_minor": 2
}
