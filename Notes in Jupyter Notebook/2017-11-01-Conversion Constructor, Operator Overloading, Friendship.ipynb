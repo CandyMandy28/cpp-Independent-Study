{
 "cells": [
  {
   "cell_type": "markdown",
   "metadata": {},
   "source": [
    "# 2017-11-01"
   ]
  },
  {
   "cell_type": "markdown",
   "metadata": {},
   "source": [
    "# Overview of homework\n",
    "\n",
    "* check if your user is screwing up\n",
    "* make sure to check whether or not your user is being dumb\n",
    "\n",
    "Use these:\n",
    "`delete[] arr;` - if you don't do `[]`, memory leak.\n",
    "\n",
    "`return *this;`\n",
    "\n",
    "* wants you to be fast and not duplicate code"
   ]
  },
  {
   "cell_type": "markdown",
   "metadata": {},
   "source": [
    "# Operator Overloading\n",
    "\n",
    "* 3+5 --> add(3,5)\n",
    "* a&&b --> and(a,b)\n",
    "\n",
    "Source Code:\n",
    "```c++\n",
    "class Complex\n",
    "{\n",
    "public:\n",
    "    Complex operator+(Complex a)\n",
    "    {\n",
    "        Complex c(real + a.real, imag + a.imag);\n",
    "        return c;\n",
    "    }\n",
    "private:\n",
    "    double real;\n",
    "    double imag;\n",
    "};\n",
    "\n",
    "Complex operator+(Complex a, Complex b)\n",
    "{\n",
    "    Complex c(a.real\n",
    "}\n",
    "```\n",
    "\n",
    "Main file thing:\n",
    "```c++\n",
    "Complex a(5,-3); //5-3i\n",
    "Complex b(2,-1); //2-i\n",
    "\n",
    "auto c = a+b;\n",
    "\n",
    "Complex::add(a,b);\n",
    "//2a - 3b\n",
    "\n",
    "//what it looks without operator overloading:\n",
    "Complex::add(Complex::scale(a,2),Copmlex::scale(b,-3));\n",
    "```"
   ]
  },
  {
   "cell_type": "markdown",
   "metadata": {},
   "source": [
    "* +\n",
    "* *\n",
    "* Unary minus: -\n",
    "    * b= -a\n",
    "    * `Complex operator-(Complex a)`\n",
    "* Binary minus: -\n",
    "    * b = a - c\n",
    "    * `Complex operator-(Complex a, Complex b)`\n",
    "* /\n",
    "* ==\n",
    "* !=\n",
    "* +=\n",
    "* -=\n",
    "* *=\n",
    "* /=\n",
    "\n",
    "\n",
    "Define + by += b/c += is faster b/c you're working on an existing thing"
   ]
  },
  {
   "cell_type": "markdown",
   "metadata": {},
   "source": [
    "# Conversion Constructor\n",
    "automatically converts it\n",
    "```c++\n",
    "Complex(double a)\n",
    "{\n",
    "    real = a;\n",
    "    imag = 0;\n",
    "}\n",
    "```\n",
    "\n",
    "To make a normal constructor:\n",
    "```c++\n",
    "explicit Complex(double a)\n",
    "```\n",
    "It'll work when you call it.\n",
    "\n",
    "This'll only be a problem for single argument constructor."
   ]
  },
  {
   "cell_type": "markdown",
   "metadata": {},
   "source": [
    "cout << 5;\n",
    "* `ostream& operator<<(ostream& str, int a);`\n",
    "* `std::ostream& operator<<(ostream& str, Smartarray a);`"
   ]
  },
  {
   "cell_type": "markdown",
   "metadata": {},
   "source": [
    "int& operator[]();\n",
    "\n",
    "int& is a reference. It's like a pointer, but it uses notations of ints.\n",
    "\n",
    "```c++\n",
    "class SMartArray\n",
    "{\n",
    "    int& operator[](int index)\n",
    "    {\n",
    "        return arr[index];\n",
    "    }\n",
    "}\n",
    "\n",
    "array[3] = 5;\n",
    "```"
   ]
  },
  {
   "cell_type": "markdown",
   "metadata": {},
   "source": [
    "```c++\n",
    "void f(const SmartArray& ar)\n",
    "{\n",
    "    //jwaojfeiwoa\n",
    "}\n",
    "```\n",
    "ERROR:\n",
    "const calls for a SmartArray that must all be const.\n",
    "Therefore, when it calls the operator[], it'll come up with an error.\n",
    "\n",
    "Therefore, you need:\n",
    "\n",
    "\n",
    "```c++\n",
    "class SMartArray\n",
    "{\n",
    "    const int& operator[] const (int index)\n",
    "    {\n",
    "        return arr[index];\n",
    "    }\n",
    "}\n",
    "```"
   ]
  },
  {
   "cell_type": "markdown",
   "metadata": {},
   "source": [
    "# Friendship\n",
    "\n",
    "```c++\n",
    "class ModPhys\n",
    "{\n",
    "\n",
    "    friend fail; // gives function fail ability to access private variables\n",
    "    friend expose;\n",
    "    friend class DDong;\n",
    "    friend class HawkPhys;\n",
    "private:\n",
    "    double failingGrade;\n",
    "}\n",
    "\n",
    "void fail(ModPhys a);\n",
    "void expose(ModPhys a);\n",
    "\n",
    "class Student\n",
    "{\n",
    "public:\n",
    "    void cry()\n",
    "private:\n",
    "    ModPhys dyingState;\n",
    "}\n",
    "\n",
    "class DDong\n",
    "{\n",
    "public:\n",
    "    //vdfjsiaofejwaiofjewoi\n",
    "    void laughAt(Student a);\n",
    "}\n",
    "\n",
    "class HawkPhys\n",
    "{\n",
    "public:\n",
    "    void shrug();\n",
    "}\n",
    "```"
   ]
  }
 ],
 "metadata": {
  "kernelspec": {
   "display_name": "Python 3",
   "language": "python",
   "name": "python3"
  },
  "language_info": {
   "codemirror_mode": {
    "name": "ipython",
    "version": 3
   },
   "file_extension": ".py",
   "mimetype": "text/x-python",
   "name": "python",
   "nbconvert_exporter": "python",
   "pygments_lexer": "ipython3",
   "version": "3.6.1"
  }
 },
 "nbformat": 4,
 "nbformat_minor": 2
}
