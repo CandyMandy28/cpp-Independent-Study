{
 "cells": [
  {
   "cell_type": "markdown",
   "metadata": {},
   "source": [
    "# 2017-11-08"
   ]
  },
  {
   "cell_type": "markdown",
   "metadata": {},
   "source": [
    "# Homework Overview\n",
    "\n",
    "## Vector3\n",
    "\n",
    "Put the helper functions outside the class (everything.)\n",
    "You need both parameters in the operator thingy.\n",
    "You put in the wrong stuff.\n",
    "\n",
    "Also please actually compile your code for once.\n",
    "\n",
    "put a print function for vector3."
   ]
  },
  {
   "cell_type": "markdown",
   "metadata": {},
   "source": [
    "# Error Handling (not debugging)\n",
    "\n",
    "Handle code without crashing your program.\n",
    "\n",
    "stuff and problems:\n",
    "* `std::sqrt(-1)`\n",
    "* `ERRNO:O:`\n",
    "    * you have to check stuff\n",
    "    * and you don't know where it is.\n",
    "* "
   ]
  },
  {
   "cell_type": "markdown",
   "metadata": {},
   "source": [
    "# Exception Handling\n",
    "\n",
    "## Example 1\n",
    "In one code:\n",
    "```c++\n",
    "try\n",
    "{\n",
    "    readfile(filename);\n",
    "}\n",
    "catch(std:exception& ex) // always catch by reference.\n",
    "{\n",
    "    // Fix it\n",
    "    std::cout<<ex.what();\n",
    "}\n",
    "```\n",
    "\n",
    "In another thing:\n",
    "```c++\n",
    "void readfile(std::string filename)\n",
    "{\n",
    "    std::ifstream input(filename);\n",
    "    if(!input)\n",
    "    {\n",
    "        throw std::exception(\"File not found\");\n",
    "        // stop excecution of code\n",
    "        // call all destructors\n",
    "        // leave function\n",
    "    }\n",
    "}\n",
    "```"
   ]
  },
  {
   "cell_type": "markdown",
   "metadata": {},
   "source": [
    "## Example 2\n",
    "\n",
    "(these are in standard library)\n",
    "In one thing:\n",
    "```c++\n",
    "try\n",
    "{\n",
    "    read();\n",
    "}\n",
    "catch (std:domain_error& er)\n",
    "{\n",
    "    //...\n",
    "    \n",
    "    throw  // rethrow that usually is used in a catch.\n",
    "    //just throw.\n",
    "}\n",
    "catch (std::bad_alloc& ex)\n",
    "{\n",
    "    //...\n",
    "}\n",
    "catch(...) //catch all\n",
    "{\n",
    "    // don't use it a lot... but sometimes it's okay\n",
    "    //...\n",
    "}\n",
    "```"
   ]
  },
  {
   "cell_type": "markdown",
   "metadata": {},
   "source": [
    "# On Throwing\n",
    "You can throw anything.\n",
    "\n",
    "You write your own type and add datasets that you'll use.\n",
    "\n",
    "Otherwise, they're just names so that you can catch it."
   ]
  },
  {
   "cell_type": "markdown",
   "metadata": {},
   "source": [
    "## What if you don't catch?\n",
    "\n",
    "`std::terminate()`\n",
    "It crashes your program in the main function."
   ]
  },
  {
   "cell_type": "markdown",
   "metadata": {},
   "source": [
    "`std::runtime_error`\n",
    "\n",
    "error handlers can't throw exceptions, but rethrows are okay.\n",
    "\n",
    "`catch { throw exception} ` = error!!!!\n",
    "\n",
    "Exceptions make your programs slower slightly.\n",
    "If you don't have exceptions, the function stack won't have to do the throw thingy exceptions stuff."
   ]
  },
  {
   "cell_type": "markdown",
   "metadata": {},
   "source": [
    "`void bakePie() noexcept`\n",
    "\n",
    "it says that it will not throw at all.\n",
    "\n",
    "Not really necessary but you *can* do it"
   ]
  },
  {
   "cell_type": "markdown",
   "metadata": {},
   "source": [
    "`new Pineapple();` --> std:: bad_alloc\n",
    "\n",
    "you might have heap overflow"
   ]
  },
  {
   "cell_type": "markdown",
   "metadata": {},
   "source": [
    "# Exception Safe Code\n",
    "```c++\n",
    "class Thanksgiving\n",
    "{\n",
    "public:\n",
    "void run();\n",
    "private:\n",
    "//...\n",
    "}\n",
    "\n",
    "void Thanksgiving::run()\n",
    "{\n",
    "//insert into array\n",
    "```\n",
    "\n",
    "Essentially, just make sure that all of your code is correct and it's simple enouogh that nothing bad could happen."
   ]
  },
  {
   "cell_type": "markdown",
   "metadata": {},
   "source": []
  },
  {
   "cell_type": "markdown",
   "metadata": {},
   "source": []
  },
  {
   "cell_type": "markdown",
   "metadata": {},
   "source": []
  },
  {
   "cell_type": "markdown",
   "metadata": {},
   "source": []
  },
  {
   "cell_type": "markdown",
   "metadata": {},
   "source": []
  },
  {
   "cell_type": "markdown",
   "metadata": {},
   "source": []
  },
  {
   "cell_type": "markdown",
   "metadata": {},
   "source": []
  },
  {
   "cell_type": "markdown",
   "metadata": {},
   "source": []
  },
  {
   "cell_type": "markdown",
   "metadata": {},
   "source": []
  }
 ],
 "metadata": {
  "kernelspec": {
   "display_name": "Python 3",
   "language": "python",
   "name": "python3"
  },
  "language_info": {
   "codemirror_mode": {
    "name": "ipython",
    "version": 3
   },
   "file_extension": ".py",
   "mimetype": "text/x-python",
   "name": "python",
   "nbconvert_exporter": "python",
   "pygments_lexer": "ipython3",
   "version": "3.6.1"
  }
 },
 "nbformat": 4,
 "nbformat_minor": 2
}
